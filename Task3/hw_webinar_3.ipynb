{
 "cells": [
  {
   "cell_type": "markdown",
   "metadata": {},
   "source": [
    "#### 1. В чем принципиальные отличия item-item рекомендаций от ALS?"
   ]
  },
  {
   "cell_type": "markdown",
   "metadata": {},
   "source": [
    "В основу item-item рекомендаций заложен алгоритм КNN, а в ALS - алгоритм градиентного спуска"
   ]
  },
  {
   "cell_type": "markdown",
   "metadata": {},
   "source": [
    "#### 2. Приведите 3 примера весов user-item матрицы для задачи рекоммендаций товаров"
   ]
  },
  {
   "cell_type": "markdown",
   "metadata": {},
   "source": [
    "- Выручка товара\n",
    "- Оценка товара\n",
    "- Количество продаж купленного товара"
   ]
  },
  {
   "cell_type": "markdown",
   "metadata": {},
   "source": [
    "#### 3. Какие ограничения есть у ALS? (Тип информации, линейность/нелинейность факторов и т д)"
   ]
  },
  {
   "cell_type": "markdown",
   "metadata": {},
   "source": [
    "Если модели ALS разрешено запоминать слишком много деталей исходной матрицы, она может не очень хорошо обобщать данные, на которых она не была обучена. Уменьшение количества факторов увеличивает обобщение модели."
   ]
  }
 ],
 "metadata": {
  "kernelspec": {
   "display_name": "Python 3",
   "language": "python",
   "name": "python3"
  },
  "language_info": {
   "codemirror_mode": {
    "name": "ipython",
    "version": 3
   },
   "file_extension": ".py",
   "mimetype": "text/x-python",
   "name": "python",
   "nbconvert_exporter": "python",
   "pygments_lexer": "ipython3",
   "version": "3.7.3"
  }
 },
 "nbformat": 4,
 "nbformat_minor": 2
}
